{
 "cells": [
  {
   "cell_type": "code",
   "execution_count": 8,
   "id": "9f588b21-7a6d-4158-8385-8e8620e15695",
   "metadata": {},
   "outputs": [
    {
     "name": "stdin",
     "output_type": "stream",
     "text": [
      "Type of vehicle : toyota\n",
      "Enter the year : 2000\n",
      "Enter who manufacture : corola\n",
      "Enter the model : corola\n",
      "Enter the number of doors(2 or 4) : 4\n",
      "solid or sun roof : sun roof\n"
     ]
    },
    {
     "name": "stdout",
     "output_type": "stream",
     "text": [
      "\n",
      "Vehicle Type :toyota\n",
      "\n",
      "Year :2000\n",
      "\n",
      "Make :corola\n",
      "\n",
      "Model :corola\n",
      "\n",
      "No of doors :4\n",
      "\n",
      "Type of roof :sun roof\n"
     ]
    }
   ],
   "source": [
    "#vehicle class with custrutor\n",
    "class Vehicle:\n",
    "\tdef __init__(self,type):   #constructor for type\n",
    "\t\tself.type=type \n",
    "\n",
    "#new subclass Automobile from vehicle\n",
    "class Automobile(Vehicle):\n",
    "\tdef __init__(self,type,year,make,model,doors,roof):\n",
    "\t\tsuper().__init__(type) #super function is called to invoke vehicle class constructor\n",
    "\t\tself.year=year\n",
    "\t\tself.make=make\n",
    "\t\tself.model=model\n",
    "\t\tself.doors=doors\n",
    "\t\tself.roof=roof\n",
    "\n",
    "type_i=input(\"vehicle type:\")\n",
    "year_i=input(\"year :\")\n",
    "make_i=input(\" manufacture :\")\n",
    "model_i=input(\"Enter the model :\")\n",
    "doors_i=input(\"Enter the number of doors(2 or 4) :\")\n",
    "roof_i=input(\"solid or sun roof :\")\n",
    "A=Automobile(type_i,year_i,make_i,model_i,doors_i,roof_i) #calling the constructor with alls values readed\n",
    "\n",
    "#print the deatils\n",
    "print(\"\\nVehicle Type :\"+A.type)\n",
    "print(\"\\nYear :\"+A.year)\n",
    "print(\"\\nMake :\"+A.make)\n",
    "print(\"\\nModel :\"+A.model)\n",
    "print(\"\\nNo of doors :\"+A.doors)\n",
    "print(\"\\nType of roof :\"+A.roof)"
   ]
  },
  {
   "cell_type": "code",
   "execution_count": 5,
   "id": "42d82501-9d63-49e6-878e-ee1c3fa12b9f",
   "metadata": {},
   "outputs": [
    {
     "data": {
      "text/plain": [
       "5"
      ]
     },
     "execution_count": 5,
     "metadata": {},
     "output_type": "execute_result"
    }
   ],
   "source": [
    "5"
   ]
  },
  {
   "cell_type": "code",
   "execution_count": 6,
   "id": "4412c29e-4016-4736-88ff-a335cc312d12",
   "metadata": {},
   "outputs": [
    {
     "data": {
      "text/plain": [
       "7"
      ]
     },
     "execution_count": 6,
     "metadata": {},
     "output_type": "execute_result"
    }
   ],
   "source": [
    "7"
   ]
  },
  {
   "cell_type": "code",
   "execution_count": 7,
   "id": "1fa1fbd7-dec5-4d47-80a7-41dfe02901ae",
   "metadata": {},
   "outputs": [
    {
     "data": {
      "text/plain": [
       "9"
      ]
     },
     "execution_count": 7,
     "metadata": {},
     "output_type": "execute_result"
    }
   ],
   "source": [
    "9"
   ]
  },
  {
   "cell_type": "code",
   "execution_count": null,
   "id": "758e6289-d8d2-42c5-a9d2-d9426e4d69c4",
   "metadata": {},
   "outputs": [],
   "source": []
  }
 ],
 "metadata": {
  "kernelspec": {
   "display_name": "Python 3 (ipykernel)",
   "language": "python",
   "name": "python3"
  },
  "language_info": {
   "codemirror_mode": {
    "name": "ipython",
    "version": 3
   },
   "file_extension": ".py",
   "mimetype": "text/x-python",
   "name": "python",
   "nbconvert_exporter": "python",
   "pygments_lexer": "ipython3",
   "version": "3.9.13"
  },
  "toc-autonumbering": false,
  "toc-showcode": false,
  "toc-showmarkdowntxt": true,
  "toc-showtags": false
 },
 "nbformat": 4,
 "nbformat_minor": 5
}
